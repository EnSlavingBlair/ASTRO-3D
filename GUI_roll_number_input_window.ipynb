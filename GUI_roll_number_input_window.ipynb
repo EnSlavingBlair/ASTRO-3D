{
 "cells": [
  {
   "cell_type": "code",
   "execution_count": null,
   "metadata": {},
   "outputs": [
    {
     "name": "stdout",
     "output_type": "stream",
     "text": [
      "Number: 0\n",
      "Number: \n",
      "Not a valid number\n"
     ]
    }
   ],
   "source": [
    "import tkinter as tk\n",
    "\n",
    "def save_entry_fields():\n",
    "    global num\n",
    "    num = e1.get()\n",
    "    print(\"Number: %s\" % (e1.get()))\n",
    "    with open(\"histData.txt\", \"a\") as f:\n",
    "        if(num.isdigit()):\n",
    "            f.write(str(num)+\"\\n\")\n",
    "        else:\n",
    "            print(\"Not a valid number\")\n",
    "    e1.delete(0,tk.END)\n",
    "\n",
    "master = tk.Tk()\n",
    "\n",
    "tk.Label(master, \n",
    "         text=\"  Number of rolls:  \", \n",
    "         font = (\"Times New Roman\", 20)).grid(row=0, column=0)\n",
    "\n",
    "e1 = tk.Entry(master, \n",
    "              font = (\"Times New Roman\", 16), \n",
    "              bd = 5, \n",
    "              width = 5,\n",
    "              validatecommand = save_entry_fields,\n",
    "              validate = \"focusout\")\n",
    "\n",
    "e1.grid(row=0, column=1)\n",
    "\n",
    "tk.Label(master,\n",
    "        text = \"  \",\n",
    "        font = (\"Times New Roman\", 20)).grid(row=0, column=2)\n",
    "\n",
    "def save(key):\n",
    "    save_entry_fields()\n",
    "\n",
    "master.bind(\"<Return>\", save)\n",
    "\n",
    "button = tk.Button(master, \n",
    "          text = 'Save', \n",
    "          command = save_entry_fields,\n",
    "          font = (\"Times New Roman\", 16)).grid(row=0, column=3, sticky=tk.W, pady=4)\n",
    "\n",
    "tk.Label(master,\n",
    "        text = \"  \",\n",
    "        font = (\"Times New Roman\", 20)).grid(row=0, column=4)\n",
    "\n",
    "# trying to get the enter key to work in place of clicking \"save\"\n",
    "#master.bind(\"<Return>\", button)\n",
    "\n",
    "tk.mainloop()"
   ]
  },
  {
   "cell_type": "code",
   "execution_count": 21,
   "metadata": {},
   "outputs": [
    {
     "data": {
      "text/plain": [
       "False"
      ]
     },
     "execution_count": 21,
     "metadata": {},
     "output_type": "execute_result"
    }
   ],
   "source": [
    "num.isdigit()"
   ]
  },
  {
   "cell_type": "code",
   "execution_count": null,
   "metadata": {},
   "outputs": [],
   "source": []
  }
 ],
 "metadata": {
  "kernelspec": {
   "display_name": "Python 3",
   "language": "python",
   "name": "python3"
  },
  "language_info": {
   "codemirror_mode": {
    "name": "ipython",
    "version": 3
   },
   "file_extension": ".py",
   "mimetype": "text/x-python",
   "name": "python",
   "nbconvert_exporter": "python",
   "pygments_lexer": "ipython3",
   "version": "3.6.5"
  }
 },
 "nbformat": 4,
 "nbformat_minor": 2
}
